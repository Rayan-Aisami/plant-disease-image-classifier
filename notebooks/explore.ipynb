{
 "cells": [
  {
   "cell_type": "code",
   "execution_count": null,
   "id": "487d1651",
   "metadata": {
    "vscode": {
     "languageId": "plaintext"
    }
   },
   "outputs": [],
   "source": [
    "import os\n",
    "import pandas as pd\n",
    "import matplotlib.pyplot as plt\n",
    "\n",
    "root = 'data/plant_village/train'  # Or full data_root\n",
    "classes = [d for d in os.listdir(root) if os.path.isdir(os.path.join(root, d))]\n",
    "df = pd.DataFrame({'class': classes, 'count': [len(os.listdir(os.path.join(root, c))) for c in classes]})\n",
    "print(f\"Total classes: {len(classes)}\")\n",
    "df.plot(kind='bar', x='class', y='count', figsize=(12,6))\n",
    "plt.xticks(rotation=90)\n",
    "plt.savefig('class_distribution.png')\n",
    "plt.show()"
   ]
  }
 ],
 "metadata": {
  "language_info": {
   "name": "python"
  }
 },
 "nbformat": 4,
 "nbformat_minor": 5
}
